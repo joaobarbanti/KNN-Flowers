{
 "cells": [
  {
   "cell_type": "code",
   "execution_count": 18,
   "id": "fc7263fd",
   "metadata": {},
   "outputs": [],
   "source": [
    "from sklearn.datasets import load_iris\n",
    "from sklearn.model_selection import GridSearchCV\n",
    "import pandas as pd\n",
    "import numpy as np\n",
    "iris = load_iris()\n",
    "x = pd.DataFrame(iris.data, columns=[iris.feature_names])\n",
    "y = pd.Series(iris.target)"
   ]
  },
  {
   "cell_type": "code",
   "execution_count": null,
   "id": "628bbf8d",
   "metadata": {},
   "outputs": [],
   "source": []
  },
  {
   "cell_type": "code",
   "execution_count": 19,
   "id": "3d1196b3",
   "metadata": {},
   "outputs": [
    {
     "data": {
      "text/html": [
       "<div>\n",
       "<style scoped>\n",
       "    .dataframe tbody tr th:only-of-type {\n",
       "        vertical-align: middle;\n",
       "    }\n",
       "\n",
       "    .dataframe tbody tr th {\n",
       "        vertical-align: top;\n",
       "    }\n",
       "\n",
       "    .dataframe thead tr th {\n",
       "        text-align: left;\n",
       "    }\n",
       "</style>\n",
       "<table border=\"1\" class=\"dataframe\">\n",
       "  <thead>\n",
       "    <tr>\n",
       "      <th></th>\n",
       "      <th>sepal length (cm)</th>\n",
       "      <th>sepal width (cm)</th>\n",
       "      <th>petal length (cm)</th>\n",
       "      <th>petal width (cm)</th>\n",
       "    </tr>\n",
       "  </thead>\n",
       "  <tbody>\n",
       "    <tr>\n",
       "      <th>0</th>\n",
       "      <td>5.1</td>\n",
       "      <td>3.5</td>\n",
       "      <td>1.4</td>\n",
       "      <td>0.2</td>\n",
       "    </tr>\n",
       "    <tr>\n",
       "      <th>1</th>\n",
       "      <td>4.9</td>\n",
       "      <td>3.0</td>\n",
       "      <td>1.4</td>\n",
       "      <td>0.2</td>\n",
       "    </tr>\n",
       "    <tr>\n",
       "      <th>2</th>\n",
       "      <td>4.7</td>\n",
       "      <td>3.2</td>\n",
       "      <td>1.3</td>\n",
       "      <td>0.2</td>\n",
       "    </tr>\n",
       "    <tr>\n",
       "      <th>3</th>\n",
       "      <td>4.6</td>\n",
       "      <td>3.1</td>\n",
       "      <td>1.5</td>\n",
       "      <td>0.2</td>\n",
       "    </tr>\n",
       "    <tr>\n",
       "      <th>4</th>\n",
       "      <td>5.0</td>\n",
       "      <td>3.6</td>\n",
       "      <td>1.4</td>\n",
       "      <td>0.2</td>\n",
       "    </tr>\n",
       "  </tbody>\n",
       "</table>\n",
       "</div>"
      ],
      "text/plain": [
       "  sepal length (cm) sepal width (cm) petal length (cm) petal width (cm)\n",
       "0               5.1              3.5               1.4              0.2\n",
       "1               4.9              3.0               1.4              0.2\n",
       "2               4.7              3.2               1.3              0.2\n",
       "3               4.6              3.1               1.5              0.2\n",
       "4               5.0              3.6               1.4              0.2"
      ]
     },
     "execution_count": 19,
     "metadata": {},
     "output_type": "execute_result"
    }
   ],
   "source": [
    "x.head()"
   ]
  },
  {
   "cell_type": "code",
   "execution_count": 20,
   "id": "49c196d5",
   "metadata": {},
   "outputs": [
    {
     "name": "stdout",
     "output_type": "stream",
     "text": [
      "sepal length (cm)    0\n",
      "sepal width (cm)     0\n",
      "petal length (cm)    0\n",
      "petal width (cm)     0\n",
      "dtype: int64\n"
     ]
    }
   ],
   "source": [
    "isnull = x.isnull().sum()\n",
    "print(isnull)"
   ]
  },
  {
   "cell_type": "code",
   "execution_count": 23,
   "id": "71080be4",
   "metadata": {},
   "outputs": [
    {
     "name": "stdout",
     "output_type": "stream",
     "text": [
      "Melhor Score 0.9733333333333334\n",
      "Melhor n 5\n",
      "Melhor metric minkowski\n",
      "Melhor p 3\n"
     ]
    },
    {
     "name": "stderr",
     "output_type": "stream",
     "text": [
      "C:\\Users\\João Ricardo\\anaconda3\\Lib\\site-packages\\sklearn\\model_selection\\_validation.py:425: FitFailedWarning: \n",
      "100 fits failed out of a total of 200.\n",
      "The score on these train-test partitions for these parameters will be set to nan.\n",
      "If these failures are not expected, you can try to debug them by setting error_score='raise'.\n",
      "\n",
      "Below are more details about the failures:\n",
      "--------------------------------------------------------------------------------\n",
      "100 fits failed with the following error:\n",
      "Traceback (most recent call last):\n",
      "  File \"C:\\Users\\João Ricardo\\anaconda3\\Lib\\site-packages\\sklearn\\model_selection\\_validation.py\", line 732, in _fit_and_score\n",
      "    estimator.fit(X_train, y_train, **fit_params)\n",
      "  File \"C:\\Users\\João Ricardo\\anaconda3\\Lib\\site-packages\\sklearn\\base.py\", line 1144, in wrapper\n",
      "    estimator._validate_params()\n",
      "  File \"C:\\Users\\João Ricardo\\anaconda3\\Lib\\site-packages\\sklearn\\base.py\", line 637, in _validate_params\n",
      "    validate_parameter_constraints(\n",
      "  File \"C:\\Users\\João Ricardo\\anaconda3\\Lib\\site-packages\\sklearn\\utils\\_param_validation.py\", line 95, in validate_parameter_constraints\n",
      "    raise InvalidParameterError(\n",
      "sklearn.utils._param_validation.InvalidParameterError: The 'metric' parameter of KNeighborsClassifier must be a str among {'p', 'cityblock', 'dice', 'l1', 'euclidean', 'canberra', 'rogerstanimoto', 'cosine', 'sqeuclidean', 'hamming', 'precomputed', 'infinity', 'russellrao', 'pyfunc', 'mahalanobis', 'l2', 'minkowski', 'jaccard', 'chebyshev', 'yule', 'sokalsneath', 'correlation', 'sokalmichener', 'manhattan', 'nan_euclidean', 'haversine', 'seuclidean', 'braycurtis'} or a callable. Got 'chebychev' instead.\n",
      "\n",
      "  warnings.warn(some_fits_failed_message, FitFailedWarning)\n",
      "C:\\Users\\João Ricardo\\anaconda3\\Lib\\site-packages\\sklearn\\model_selection\\_search.py:976: UserWarning: One or more of the test scores are non-finite: [0.94666667 0.95333333 0.96       0.96       0.94666667 0.96\n",
      " 0.97333333 0.97333333 0.96       0.96666667 0.96666667 0.96666667\n",
      " 0.95333333 0.96       0.96666667 0.96666667 0.95333333 0.96\n",
      " 0.96666667 0.96666667        nan        nan        nan        nan\n",
      "        nan        nan        nan        nan        nan        nan\n",
      "        nan        nan        nan        nan        nan        nan\n",
      "        nan        nan        nan        nan]\n",
      "  warnings.warn(\n"
     ]
    }
   ],
   "source": [
    "from sklearn.preprocessing import MinMaxScaler\n",
    "from sklearn.neighbors import KNeighborsClassifier\n",
    "normalize = MinMaxScaler(feature_range=(0,1))\n",
    "x_new = normalize.fit_transform(x)\n",
    "valores_k = np.array([1,5,4,7,8])\n",
    "valores_p = np.array([1,2,3,4])\n",
    "valores_distancia = np.array(['minkowski', 'chebychev'])\n",
    "grid = {'n_neighbors':valores_k, 'metric':valores_distancia, 'p':valores_p}\n",
    "modelo = KNeighborsClassifier()\n",
    "definemodel = GridSearchCV(estimator=modelo, param_grid=grid, cv=5)\n",
    "definemodel.fit(x_new, y)\n",
    "print('Melhor Score', definemodel.best_score_)\n",
    "print('Melhor n',definemodel.best_estimator_.n_neighbors)\n",
    "print('Melhor metric',definemodel.best_estimator_.metric)\n",
    "print('Melhor p',definemodel.best_estimator_.p)"
   ]
  },
  {
   "cell_type": "code",
   "execution_count": null,
   "id": "a3c2ac48",
   "metadata": {},
   "outputs": [],
   "source": []
  }
 ],
 "metadata": {
  "kernelspec": {
   "display_name": "Python 3 (ipykernel)",
   "language": "python",
   "name": "python3"
  },
  "language_info": {
   "codemirror_mode": {
    "name": "ipython",
    "version": 3
   },
   "file_extension": ".py",
   "mimetype": "text/x-python",
   "name": "python",
   "nbconvert_exporter": "python",
   "pygments_lexer": "ipython3",
   "version": "3.11.5"
  }
 },
 "nbformat": 4,
 "nbformat_minor": 5
}
